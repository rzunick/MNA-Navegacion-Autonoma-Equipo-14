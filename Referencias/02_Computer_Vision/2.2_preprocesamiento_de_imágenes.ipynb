{
 "cells": [
  {
   "cell_type": "markdown",
   "metadata": {},
   "source": [
    "<a href=\"https://maestriasydiplomados.tec.mx/posgrados/maestria-en-inteligencia-artificial-aplicada\"><img src=\"logo_MR4010.png\"></a>\n",
    "<h1> <div align=\"center\"> Dr. David Antonio-Torres</div> </h1>"
   ]
  },
  {
   "cell_type": "markdown",
   "metadata": {},
   "source": [
    "# PREPROCESAMIENTO DE IMAGENES"
   ]
  },
  {
   "cell_type": "markdown",
   "metadata": {},
   "source": [
    "### El preprocesamiento es necesario para preparar imágenes para la aplicación en particular\n",
    "### El tipo de preprocesamiento depende de la aplicación\n",
    "### En este Notebook se presentan algunas tareas de preprocesamiento básicas"
   ]
  },
  {
   "cell_type": "markdown",
   "metadata": {},
   "source": [
    "# Se cargan las bibliotecas necesarias"
   ]
  },
  {
   "cell_type": "code",
   "execution_count": 1,
   "metadata": {},
   "outputs": [],
   "source": [
    "import matplotlib.image as mpimg\n",
    "import matplotlib.pyplot as plt\n",
    "import numpy as np\n",
    "import cv2"
   ]
  },
  {
   "cell_type": "markdown",
   "metadata": {},
   "source": [
    "# Se carga la imagen de prueba"
   ]
  },
  {
   "cell_type": "code",
   "execution_count": 2,
   "metadata": {},
   "outputs": [],
   "source": [
    "img_original = cv2.imread('Self_Driving_Car.jpg')\n",
    "\n",
    "cv2.imshow('Imagen Original', img_original)\n",
    "\n",
    "# Se presiona cualquier tecla para continuar y cerrar la ventana con la imagen\n",
    "cv2.waitKey()\n",
    "cv2.destroyAllWindows()"
   ]
  },
  {
   "cell_type": "markdown",
   "metadata": {},
   "source": [
    "# Se aplica un kernel específico para resaltar (sharpen) los bordes de la imagen\n",
    "### El kernel es una matriz de 3 por 3 y se aplica a la imagen usando la función filter2D\n",
    "#### https://dev.to/sandeepbalachandran/machine-learning-convolution-with-color-images-2p41"
   ]
  },
  {
   "cell_type": "markdown",
   "metadata": {},
   "source": [
    "![Convolution](cnn-convoluted.jpeg)"
   ]
  },
  {
   "cell_type": "code",
   "execution_count": 3,
   "metadata": {},
   "outputs": [
    {
     "data": {
      "text/plain": [
       "(426, 640, 3)"
      ]
     },
     "execution_count": 3,
     "metadata": {},
     "output_type": "execute_result"
    }
   ],
   "source": [
    "img_original.shape"
   ]
  },
  {
   "cell_type": "code",
   "execution_count": 4,
   "metadata": {},
   "outputs": [],
   "source": [
    "# Se crea un kernel de 3 por 3\n",
    "sharp_kernel = np.array([[-1,-1,-1], \n",
    "                         [-1,9,-1], \n",
    "                         [-1,-1,-1]])\n",
    "\n",
    "# Se aplica el kernel a la imagen usando el método de la convolución en dos dimensiones\n",
    "# el argumento de -1 indica que la imagen resultante el mismo número de planos que la imagen original\n",
    "sharpened_img = cv2.filter2D(img_original, -1, sharp_kernel)\n",
    "\n",
    "# Se muestra la imagen resultante\n",
    "cv2.imshow('Imagen Resaltada', sharpened_img)\n",
    "cv2.waitKey(0)\n",
    "cv2.destroyAllWindows()"
   ]
  },
  {
   "cell_type": "markdown",
   "metadata": {},
   "source": [
    "# Como un segundo ejemplo, se crea un kernel para hacer que la imagen se vea borrosa (blurred) o fuera de foco"
   ]
  },
  {
   "cell_type": "code",
   "execution_count": 6,
   "metadata": {},
   "outputs": [],
   "source": [
    "# Se crea un kernel de 3 por 3 compuesto por valores de 1/9, todos iguales\n",
    "blur_kernel = np.ones((3,3))*(1/9)\n",
    "#se obtiene la imagen resultante y se muestra\n",
    "blurred_img = cv2.filter2D(img_original, -1, blur_kernel)\n",
    "cv2.imshow('Imagen Borrosa', blurred_img)\n",
    "cv2.waitKey(0)\n",
    "cv2.destroyAllWindows()"
   ]
  },
  {
   "cell_type": "markdown",
   "metadata": {},
   "source": [
    "# Es importante aclarar que la convolución también se puede llevar a cabo en imágenes con escala de grises, es decir, con un solo plano de color"
   ]
  },
  {
   "cell_type": "markdown",
   "metadata": {},
   "source": [
    "# Se muestran a continuación dos funciones para conseguir el mismo efecto de hacer borrosa una imagen"
   ]
  },
  {
   "cell_type": "code",
   "execution_count": 7,
   "metadata": {},
   "outputs": [],
   "source": [
    "# se requiere un kernel de 5 por 5 para la función blur\n",
    "# https://www.geeksforgeeks.org/python-opencv-cv2-blur-method/\n",
    "blurred_func1_img = cv2.blur(img_original,ksize=(5,5))\n",
    "cv2.imshow('Imagen Borrosa', blurred_func1_img)\n",
    "cv2.waitKey(0)\n",
    "cv2.destroyAllWindows()"
   ]
  },
  {
   "cell_type": "code",
   "execution_count": 8,
   "metadata": {},
   "outputs": [],
   "source": [
    "# se requiere un kernel de 5 por 5 para la función blur\n",
    "#https://docs.opencv.org/4.x/d4/d13/tutorial_py_filtering.html\n",
    "blurred_func2_img = cv2.GaussianBlur(img_original,(7,7),10)\n",
    "cv2.imshow('Imagen Borrosa', blurred_func2_img)\n",
    "cv2.waitKey(0)\n",
    "cv2.destroyAllWindows()"
   ]
  },
  {
   "cell_type": "markdown",
   "metadata": {},
   "source": [
    "# Otro método para mejorar el contraste de una imagen es ecualizando su histograma\n",
    "### Un histograma muestra gráficamente la distribución de los niveles de brillantez o color en una imagen\n",
    "### La ecualización busca distribuir más uniformemente la brillantez en la imagen\n",
    "#### https://docs.opencv.org/3.4/d4/d1b/tutorial_histogram_equalization.html"
   ]
  },
  {
   "cell_type": "markdown",
   "metadata": {},
   "source": [
    "![Histograma](Histogram_Equalization_Theory_0.jpg)"
   ]
  },
  {
   "cell_type": "markdown",
   "metadata": {
    "tags": []
   },
   "source": [
    "# Se demuestra la ecualización en una imagen con escala de grises"
   ]
  },
  {
   "cell_type": "code",
   "execution_count": 9,
   "metadata": {},
   "outputs": [],
   "source": [
    "gray_img = cv2.cvtColor(img_original, cv2.COLOR_BGR2GRAY)\n",
    "equal_img = cv2.equalizeHist(gray_img)\n",
    "cv2.imshow('Imagen Original', gray_img)\n",
    "cv2.imshow('Imagen Ecualizada', equal_img)\n",
    "cv2.waitKey()\n",
    "cv2.destroyAllWindows()"
   ]
  },
  {
   "cell_type": "markdown",
   "metadata": {},
   "source": [
    "# Gracias por la atención"
   ]
  }
 ],
 "metadata": {
  "kernelspec": {
   "display_name": "Python 3 (ipykernel)",
   "language": "python",
   "name": "python3"
  },
  "language_info": {
   "codemirror_mode": {
    "name": "ipython",
    "version": 3
   },
   "file_extension": ".py",
   "mimetype": "text/x-python",
   "name": "python",
   "nbconvert_exporter": "python",
   "pygments_lexer": "ipython3",
   "version": "3.9.12"
  }
 },
 "nbformat": 4,
 "nbformat_minor": 4
}
