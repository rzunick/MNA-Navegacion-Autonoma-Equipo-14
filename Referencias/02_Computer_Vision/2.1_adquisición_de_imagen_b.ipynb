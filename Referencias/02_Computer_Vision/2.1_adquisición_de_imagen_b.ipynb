{
 "cells": [
  {
   "cell_type": "markdown",
   "metadata": {},
   "source": [
    "<a href=\"https://maestriasydiplomados.tec.mx/posgrados/maestria-en-inteligencia-artificial-aplicada\"><img src=\"logo_MR4010.png\"></a>\n",
    "<h1> <div align=\"center\"> Dr. David Antonio-Torres</div> </h1>"
   ]
  },
  {
   "cell_type": "markdown",
   "metadata": {},
   "source": [
    "# ADQUISICION DE VIDEO CON OPENCV"
   ]
  },
  {
   "cell_type": "markdown",
   "metadata": {},
   "source": [
    "# Se cargan las bibliotecas necesarias"
   ]
  },
  {
   "cell_type": "code",
   "execution_count": 1,
   "metadata": {},
   "outputs": [],
   "source": [
    "import matplotlib.image as mpimg\n",
    "import matplotlib.pyplot as plt\n",
    "import numpy as np\n",
    "import cv2"
   ]
  },
  {
   "cell_type": "markdown",
   "metadata": {},
   "source": [
    "# Esta función se debe ejecutar antes que la inicialización de la cámara web\n",
    "### Esta función aplica algunos efectos a los frames de la cámara"
   ]
  },
  {
   "cell_type": "code",
   "execution_count": 2,
   "metadata": {},
   "outputs": [],
   "source": [
    "def Cartoon(image_color):\n",
    "\n",
    "    dst = cv2.stylization(image_color, sigma_s=60, sigma_r=0.5)\n",
    "\n",
    "    return dst"
   ]
  },
  {
   "cell_type": "markdown",
   "metadata": {},
   "source": [
    "# Se inicializa la cámara web y se proyectan los frames obtenidos\n",
    "### El valor numérico de la inicialización dependerá del número de cámaras conectadas a la PC.\n",
    "### El valor de 0 es para la cámara por omisión o la cámara principal."
   ]
  },
  {
   "cell_type": "code",
   "execution_count": 4,
   "metadata": {},
   "outputs": [
    {
     "name": "stderr",
     "output_type": "stream",
     "text": [
      "[ WARN:0@33.628] global /opt/conda/conda-bld/opencv-suite_1664548337286/work/modules/videoio/src/cap_gstreamer.cpp (862) isPipelinePlaying OpenCV | GStreamer warning: GStreamer: pipeline have not been created\n"
     ]
    }
   ],
   "source": [
    "#se inicializa la cámara web\n",
    "cap = cv2.VideoCapture(0)\n",
    "\n",
    "while True:\n",
    "    #ret es un valor Booleano que indica si la cámara se leyó correctamente\n",
    "    #frame es el frame actual de la cámara\n",
    "    ret, frame = cap.read() \n",
    "    cv2.imshow('Live Edge Detection', Cartoon(frame))\n",
    "    cv2.imshow('Webcam Video', frame)\n",
    "    #se cierra la ventana de la cámara presionando la tecla de ENTER\n",
    "    if cv2.waitKey(1) == 13: \n",
    "        break\n",
    "\n",
    "#se libera la cámara y se cierra la ventana\n",
    "cap.release() \n",
    "cv2.destroyAllWindows()    "
   ]
  },
  {
   "cell_type": "markdown",
   "metadata": {},
   "source": [
    "# Gracias por la atención"
   ]
  }
 ],
 "metadata": {
  "kernelspec": {
   "display_name": "Python 3 (ipykernel)",
   "language": "python",
   "name": "python3"
  },
  "language_info": {
   "codemirror_mode": {
    "name": "ipython",
    "version": 3
   },
   "file_extension": ".py",
   "mimetype": "text/x-python",
   "name": "python",
   "nbconvert_exporter": "python",
   "pygments_lexer": "ipython3",
   "version": "3.9.13"
  }
 },
 "nbformat": 4,
 "nbformat_minor": 4
}
